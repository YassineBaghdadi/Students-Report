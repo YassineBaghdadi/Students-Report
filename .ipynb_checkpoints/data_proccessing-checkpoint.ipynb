{
 "cells": [
  {
   "cell_type": "code",
   "execution_count": 1,
   "metadata": {},
   "outputs": [],
   "source": [
    "import pandas as pd\n",
    "import numpy as np\n"
   ]
  },
  {
   "cell_type": "code",
   "execution_count": 20,
   "metadata": {},
   "outputs": [],
   "source": [
    "df = pd.read_excel('dta.xlsx')"
   ]
  },
  {
   "cell_type": "code",
   "execution_count": 33,
   "metadata": {},
   "outputs": [
    {
     "data": {
      "text/plain": [
       "101270471"
      ]
     },
     "execution_count": 33,
     "metadata": {},
     "output_type": "execute_result"
    }
   ],
   "source": [
    "df.iloc[0]['Student ID']"
   ]
  },
  {
   "cell_type": "code",
   "execution_count": 39,
   "metadata": {},
   "outputs": [
    {
     "data": {
      "text/html": [
       "<div>\n",
       "<style scoped>\n",
       "    .dataframe tbody tr th:only-of-type {\n",
       "        vertical-align: middle;\n",
       "    }\n",
       "\n",
       "    .dataframe tbody tr th {\n",
       "        vertical-align: top;\n",
       "    }\n",
       "\n",
       "    .dataframe thead th {\n",
       "        text-align: right;\n",
       "    }\n",
       "</style>\n",
       "<table border=\"1\" class=\"dataframe\">\n",
       "  <thead>\n",
       "    <tr style=\"text-align: right;\">\n",
       "      <th></th>\n",
       "      <th>Student ID</th>\n",
       "      <th>Date of birth</th>\n",
       "      <th>Place of birth</th>\n",
       "      <th>Type of ID</th>\n",
       "      <th>Place of issue</th>\n",
       "      <th>Department</th>\n",
       "      <th>Major</th>\n",
       "      <th>Graduation Year</th>\n",
       "      <th>Year</th>\n",
       "      <th>Semester for graduation</th>\n",
       "      <th>GPA</th>\n",
       "      <th>Grade</th>\n",
       "      <th>Type of certificate</th>\n",
       "      <th>region</th>\n",
       "    </tr>\n",
       "  </thead>\n",
       "  <tbody>\n",
       "    <tr>\n",
       "      <th>0</th>\n",
       "      <td>101270471</td>\n",
       "      <td>1409/02/09</td>\n",
       "      <td>الرياض</td>\n",
       "      <td>بطاقة أحوال</td>\n",
       "      <td>الرياض</td>\n",
       "      <td>التقنية الإدارية</td>\n",
       "      <td>الإدارة  المكتبية</td>\n",
       "      <td>1433</td>\n",
       "      <td>1433/1432</td>\n",
       "      <td>4323</td>\n",
       "      <td>2.17</td>\n",
       "      <td>مقبول</td>\n",
       "      <td>دبلوم</td>\n",
       "      <td></td>\n",
       "    </tr>\n",
       "    <tr>\n",
       "      <th>1</th>\n",
       "      <td>101271087</td>\n",
       "      <td>1404/11/20</td>\n",
       "      <td>الرياض</td>\n",
       "      <td>بطاقة أحوال</td>\n",
       "      <td>ثادق</td>\n",
       "      <td>التقنية الكهربائية</td>\n",
       "      <td>آلات ومعدات كهربائية</td>\n",
       "      <td>1433</td>\n",
       "      <td>1433/1432</td>\n",
       "      <td>4323</td>\n",
       "      <td>2.01</td>\n",
       "      <td>مقبول</td>\n",
       "      <td>دبلوم</td>\n",
       "      <td></td>\n",
       "    </tr>\n",
       "    <tr>\n",
       "      <th>2</th>\n",
       "      <td>101271377</td>\n",
       "      <td>1408/11/09</td>\n",
       "      <td>الرياض</td>\n",
       "      <td>بطاقة أحوال</td>\n",
       "      <td>الرياض</td>\n",
       "      <td>التقنية الإدارية</td>\n",
       "      <td>المحاسبة</td>\n",
       "      <td>1433</td>\n",
       "      <td>1433/1432</td>\n",
       "      <td>4323</td>\n",
       "      <td>2.16</td>\n",
       "      <td>مقبول</td>\n",
       "      <td>دبلوم</td>\n",
       "      <td></td>\n",
       "    </tr>\n",
       "    <tr>\n",
       "      <th>3</th>\n",
       "      <td>101272432</td>\n",
       "      <td>1408/05/05</td>\n",
       "      <td>الرياض</td>\n",
       "      <td>بطاقة أحوال</td>\n",
       "      <td>الرياض</td>\n",
       "      <td>التقنية الإدارية</td>\n",
       "      <td>المحاسبة</td>\n",
       "      <td>1433</td>\n",
       "      <td>1433/1432</td>\n",
       "      <td>4323</td>\n",
       "      <td>2.23</td>\n",
       "      <td>مقبول</td>\n",
       "      <td>دبلوم</td>\n",
       "      <td></td>\n",
       "    </tr>\n",
       "    <tr>\n",
       "      <th>4</th>\n",
       "      <td>101280420</td>\n",
       "      <td>1404/07/29</td>\n",
       "      <td>الرياض</td>\n",
       "      <td>بطاقة أحوال</td>\n",
       "      <td>الرياض</td>\n",
       "      <td>التقنية الإدارية</td>\n",
       "      <td>المحاسبة</td>\n",
       "      <td>1433</td>\n",
       "      <td>1433/1432</td>\n",
       "      <td>4323</td>\n",
       "      <td>2.28</td>\n",
       "      <td>مقبول</td>\n",
       "      <td>دبلوم</td>\n",
       "      <td></td>\n",
       "    </tr>\n",
       "  </tbody>\n",
       "</table>\n",
       "</div>"
      ],
      "text/plain": [
       "   Student ID Date of birth Place of birth   Type of ID Place of issue  \\\n",
       "0   101270471    1409/02/09         الرياض  بطاقة أحوال         الرياض   \n",
       "1   101271087    1404/11/20         الرياض  بطاقة أحوال           ثادق   \n",
       "2   101271377    1408/11/09         الرياض  بطاقة أحوال         الرياض   \n",
       "3   101272432    1408/05/05         الرياض  بطاقة أحوال         الرياض   \n",
       "4   101280420    1404/07/29         الرياض  بطاقة أحوال         الرياض   \n",
       "\n",
       "           Department                 Major  Graduation Year       Year  \\\n",
       "0    التقنية الإدارية     الإدارة  المكتبية             1433  1433/1432   \n",
       "1  التقنية الكهربائية  آلات ومعدات كهربائية             1433  1433/1432   \n",
       "2    التقنية الإدارية              المحاسبة             1433  1433/1432   \n",
       "3    التقنية الإدارية              المحاسبة             1433  1433/1432   \n",
       "4    التقنية الإدارية              المحاسبة             1433  1433/1432   \n",
       "\n",
       "   Semester for graduation   GPA  Grade Type of certificate region  \n",
       "0                     4323  2.17  مقبول               دبلوم         \n",
       "1                     4323  2.01  مقبول               دبلوم         \n",
       "2                     4323  2.16  مقبول               دبلوم         \n",
       "3                     4323  2.23  مقبول               دبلوم         \n",
       "4                     4323  2.28  مقبول               دبلوم         "
      ]
     },
     "execution_count": 39,
     "metadata": {},
     "output_type": "execute_result"
    }
   ],
   "source": [
    "df.head()"
   ]
  },
  {
   "cell_type": "code",
   "execution_count": 42,
   "metadata": {},
   "outputs": [
    {
     "data": {
      "text/html": [
       "<div>\n",
       "<style scoped>\n",
       "    .dataframe tbody tr th:only-of-type {\n",
       "        vertical-align: middle;\n",
       "    }\n",
       "\n",
       "    .dataframe tbody tr th {\n",
       "        vertical-align: top;\n",
       "    }\n",
       "\n",
       "    .dataframe thead th {\n",
       "        text-align: right;\n",
       "    }\n",
       "</style>\n",
       "<table border=\"1\" class=\"dataframe\">\n",
       "  <thead>\n",
       "    <tr style=\"text-align: right;\">\n",
       "      <th></th>\n",
       "      <th>Student ID</th>\n",
       "      <th>Date of birth</th>\n",
       "      <th>Place of birth</th>\n",
       "      <th>Type of ID</th>\n",
       "      <th>Place of issue</th>\n",
       "      <th>Department</th>\n",
       "      <th>Major</th>\n",
       "      <th>Graduation Year</th>\n",
       "      <th>Year</th>\n",
       "      <th>Semester for graduation</th>\n",
       "      <th>GPA</th>\n",
       "      <th>Grade</th>\n",
       "      <th>Type of certificate</th>\n",
       "      <th>region</th>\n",
       "    </tr>\n",
       "  </thead>\n",
       "  <tbody>\n",
       "  </tbody>\n",
       "</table>\n",
       "</div>"
      ],
      "text/plain": [
       "Empty DataFrame\n",
       "Columns: [Student ID, Date of birth, Place of birth, Type of ID, Place of issue, Department, Major, Graduation Year, Year, Semester for graduation, GPA, Grade, Type of certificate, region]\n",
       "Index: []"
      ]
     },
     "execution_count": 42,
     "metadata": {},
     "output_type": "execute_result"
    }
   ],
   "source": [
    "df[df['Place of issue'] == '']"
   ]
  },
  {
   "cell_type": "code",
   "execution_count": 28,
   "metadata": {},
   "outputs": [],
   "source": [
    "df['region'] = ''"
   ]
  },
  {
   "cell_type": "code",
   "execution_count": null,
   "metadata": {},
   "outputs": [],
   "source": []
  },
  {
   "cell_type": "code",
   "execution_count": 38,
   "metadata": {},
   "outputs": [
    {
     "ename": "KeyError",
     "evalue": "0",
     "output_type": "error",
     "traceback": [
      "\u001b[0;31m---------------------------------------------------------------------------\u001b[0m",
      "\u001b[0;31mKeyError\u001b[0m                                  Traceback (most recent call last)",
      "\u001b[0;32m~/.local/lib/python3.8/site-packages/pandas/core/indexes/base.py\u001b[0m in \u001b[0;36mget_loc\u001b[0;34m(self, key, method, tolerance)\u001b[0m\n\u001b[1;32m   2645\u001b[0m             \u001b[0;32mtry\u001b[0m\u001b[0;34m:\u001b[0m\u001b[0;34m\u001b[0m\u001b[0;34m\u001b[0m\u001b[0m\n\u001b[0;32m-> 2646\u001b[0;31m                 \u001b[0;32mreturn\u001b[0m \u001b[0mself\u001b[0m\u001b[0;34m.\u001b[0m\u001b[0m_engine\u001b[0m\u001b[0;34m.\u001b[0m\u001b[0mget_loc\u001b[0m\u001b[0;34m(\u001b[0m\u001b[0mkey\u001b[0m\u001b[0;34m)\u001b[0m\u001b[0;34m\u001b[0m\u001b[0;34m\u001b[0m\u001b[0m\n\u001b[0m\u001b[1;32m   2647\u001b[0m             \u001b[0;32mexcept\u001b[0m \u001b[0mKeyError\u001b[0m\u001b[0;34m:\u001b[0m\u001b[0;34m\u001b[0m\u001b[0;34m\u001b[0m\u001b[0m\n",
      "\u001b[0;32mpandas/_libs/index.pyx\u001b[0m in \u001b[0;36mpandas._libs.index.IndexEngine.get_loc\u001b[0;34m()\u001b[0m\n",
      "\u001b[0;32mpandas/_libs/index.pyx\u001b[0m in \u001b[0;36mpandas._libs.index.IndexEngine.get_loc\u001b[0;34m()\u001b[0m\n",
      "\u001b[0;32mpandas/_libs/hashtable_class_helper.pxi\u001b[0m in \u001b[0;36mpandas._libs.hashtable.PyObjectHashTable.get_item\u001b[0;34m()\u001b[0m\n",
      "\u001b[0;32mpandas/_libs/hashtable_class_helper.pxi\u001b[0m in \u001b[0;36mpandas._libs.hashtable.PyObjectHashTable.get_item\u001b[0;34m()\u001b[0m\n",
      "\u001b[0;31mKeyError\u001b[0m: 0",
      "\nDuring handling of the above exception, another exception occurred:\n",
      "\u001b[0;31mKeyError\u001b[0m                                  Traceback (most recent call last)",
      "\u001b[0;32m<ipython-input-38-95aa50d16407>\u001b[0m in \u001b[0;36m<module>\u001b[0;34m\u001b[0m\n\u001b[1;32m      1\u001b[0m \u001b[0;32mfor\u001b[0m \u001b[0mrow\u001b[0m \u001b[0;32min\u001b[0m \u001b[0mrange\u001b[0m\u001b[0;34m(\u001b[0m\u001b[0mlen\u001b[0m\u001b[0;34m(\u001b[0m\u001b[0mdf\u001b[0m\u001b[0;34m[\u001b[0m\u001b[0;34m'Student ID'\u001b[0m\u001b[0;34m]\u001b[0m\u001b[0;34m)\u001b[0m\u001b[0;34m)\u001b[0m\u001b[0;34m:\u001b[0m\u001b[0;34m\u001b[0m\u001b[0;34m\u001b[0m\u001b[0m\n\u001b[1;32m      2\u001b[0m     \u001b[0;32mif\u001b[0m \u001b[0mdf\u001b[0m\u001b[0;34m.\u001b[0m\u001b[0miloc\u001b[0m\u001b[0;34m[\u001b[0m\u001b[0mrow\u001b[0m\u001b[0;34m]\u001b[0m\u001b[0;34m[\u001b[0m\u001b[0;34m'Place of issue'\u001b[0m\u001b[0;34m]\u001b[0m \u001b[0;32min\u001b[0m \u001b[0mp1\u001b[0m\u001b[0;34m:\u001b[0m\u001b[0;34m\u001b[0m\u001b[0;34m\u001b[0m\u001b[0m\n\u001b[0;32m----> 3\u001b[0;31m         \u001b[0mdf\u001b[0m\u001b[0;34m[\u001b[0m\u001b[0mrow\u001b[0m\u001b[0;34m]\u001b[0m\u001b[0;34m[\u001b[0m\u001b[0;34m'region'\u001b[0m\u001b[0;34m]\u001b[0m \u001b[0;34m=\u001b[0m \u001b[0mregions_\u001b[0m\u001b[0;34m[\u001b[0m\u001b[0;36m0\u001b[0m\u001b[0;34m]\u001b[0m\u001b[0;34m\u001b[0m\u001b[0;34m\u001b[0m\u001b[0m\n\u001b[0m\u001b[1;32m      4\u001b[0m     \u001b[0;32melif\u001b[0m \u001b[0mdf\u001b[0m\u001b[0;34m.\u001b[0m\u001b[0miloc\u001b[0m\u001b[0;34m[\u001b[0m\u001b[0mrow\u001b[0m\u001b[0;34m]\u001b[0m\u001b[0;34m[\u001b[0m\u001b[0;34m'Place of issue'\u001b[0m\u001b[0;34m]\u001b[0m \u001b[0;32min\u001b[0m \u001b[0mp2\u001b[0m\u001b[0;34m:\u001b[0m\u001b[0;34m\u001b[0m\u001b[0;34m\u001b[0m\u001b[0m\n\u001b[1;32m      5\u001b[0m         \u001b[0mdf\u001b[0m\u001b[0;34m[\u001b[0m\u001b[0mrow\u001b[0m\u001b[0;34m]\u001b[0m\u001b[0;34m[\u001b[0m\u001b[0;34m'region'\u001b[0m\u001b[0;34m]\u001b[0m \u001b[0;34m=\u001b[0m \u001b[0mregions_\u001b[0m\u001b[0;34m[\u001b[0m\u001b[0;36m1\u001b[0m\u001b[0;34m]\u001b[0m\u001b[0;34m\u001b[0m\u001b[0;34m\u001b[0m\u001b[0m\n",
      "\u001b[0;32m~/.local/lib/python3.8/site-packages/pandas/core/frame.py\u001b[0m in \u001b[0;36m__getitem__\u001b[0;34m(self, key)\u001b[0m\n\u001b[1;32m   2798\u001b[0m             \u001b[0;32mif\u001b[0m \u001b[0mself\u001b[0m\u001b[0;34m.\u001b[0m\u001b[0mcolumns\u001b[0m\u001b[0;34m.\u001b[0m\u001b[0mnlevels\u001b[0m \u001b[0;34m>\u001b[0m \u001b[0;36m1\u001b[0m\u001b[0;34m:\u001b[0m\u001b[0;34m\u001b[0m\u001b[0;34m\u001b[0m\u001b[0m\n\u001b[1;32m   2799\u001b[0m                 \u001b[0;32mreturn\u001b[0m \u001b[0mself\u001b[0m\u001b[0;34m.\u001b[0m\u001b[0m_getitem_multilevel\u001b[0m\u001b[0;34m(\u001b[0m\u001b[0mkey\u001b[0m\u001b[0;34m)\u001b[0m\u001b[0;34m\u001b[0m\u001b[0;34m\u001b[0m\u001b[0m\n\u001b[0;32m-> 2800\u001b[0;31m             \u001b[0mindexer\u001b[0m \u001b[0;34m=\u001b[0m \u001b[0mself\u001b[0m\u001b[0;34m.\u001b[0m\u001b[0mcolumns\u001b[0m\u001b[0;34m.\u001b[0m\u001b[0mget_loc\u001b[0m\u001b[0;34m(\u001b[0m\u001b[0mkey\u001b[0m\u001b[0;34m)\u001b[0m\u001b[0;34m\u001b[0m\u001b[0;34m\u001b[0m\u001b[0m\n\u001b[0m\u001b[1;32m   2801\u001b[0m             \u001b[0;32mif\u001b[0m \u001b[0mis_integer\u001b[0m\u001b[0;34m(\u001b[0m\u001b[0mindexer\u001b[0m\u001b[0;34m)\u001b[0m\u001b[0;34m:\u001b[0m\u001b[0;34m\u001b[0m\u001b[0;34m\u001b[0m\u001b[0m\n\u001b[1;32m   2802\u001b[0m                 \u001b[0mindexer\u001b[0m \u001b[0;34m=\u001b[0m \u001b[0;34m[\u001b[0m\u001b[0mindexer\u001b[0m\u001b[0;34m]\u001b[0m\u001b[0;34m\u001b[0m\u001b[0;34m\u001b[0m\u001b[0m\n",
      "\u001b[0;32m~/.local/lib/python3.8/site-packages/pandas/core/indexes/base.py\u001b[0m in \u001b[0;36mget_loc\u001b[0;34m(self, key, method, tolerance)\u001b[0m\n\u001b[1;32m   2646\u001b[0m                 \u001b[0;32mreturn\u001b[0m \u001b[0mself\u001b[0m\u001b[0;34m.\u001b[0m\u001b[0m_engine\u001b[0m\u001b[0;34m.\u001b[0m\u001b[0mget_loc\u001b[0m\u001b[0;34m(\u001b[0m\u001b[0mkey\u001b[0m\u001b[0;34m)\u001b[0m\u001b[0;34m\u001b[0m\u001b[0;34m\u001b[0m\u001b[0m\n\u001b[1;32m   2647\u001b[0m             \u001b[0;32mexcept\u001b[0m \u001b[0mKeyError\u001b[0m\u001b[0;34m:\u001b[0m\u001b[0;34m\u001b[0m\u001b[0;34m\u001b[0m\u001b[0m\n\u001b[0;32m-> 2648\u001b[0;31m                 \u001b[0;32mreturn\u001b[0m \u001b[0mself\u001b[0m\u001b[0;34m.\u001b[0m\u001b[0m_engine\u001b[0m\u001b[0;34m.\u001b[0m\u001b[0mget_loc\u001b[0m\u001b[0;34m(\u001b[0m\u001b[0mself\u001b[0m\u001b[0;34m.\u001b[0m\u001b[0m_maybe_cast_indexer\u001b[0m\u001b[0;34m(\u001b[0m\u001b[0mkey\u001b[0m\u001b[0;34m)\u001b[0m\u001b[0;34m)\u001b[0m\u001b[0;34m\u001b[0m\u001b[0;34m\u001b[0m\u001b[0m\n\u001b[0m\u001b[1;32m   2649\u001b[0m         \u001b[0mindexer\u001b[0m \u001b[0;34m=\u001b[0m \u001b[0mself\u001b[0m\u001b[0;34m.\u001b[0m\u001b[0mget_indexer\u001b[0m\u001b[0;34m(\u001b[0m\u001b[0;34m[\u001b[0m\u001b[0mkey\u001b[0m\u001b[0;34m]\u001b[0m\u001b[0;34m,\u001b[0m \u001b[0mmethod\u001b[0m\u001b[0;34m=\u001b[0m\u001b[0mmethod\u001b[0m\u001b[0;34m,\u001b[0m \u001b[0mtolerance\u001b[0m\u001b[0;34m=\u001b[0m\u001b[0mtolerance\u001b[0m\u001b[0;34m)\u001b[0m\u001b[0;34m\u001b[0m\u001b[0;34m\u001b[0m\u001b[0m\n\u001b[1;32m   2650\u001b[0m         \u001b[0;32mif\u001b[0m \u001b[0mindexer\u001b[0m\u001b[0;34m.\u001b[0m\u001b[0mndim\u001b[0m \u001b[0;34m>\u001b[0m \u001b[0;36m1\u001b[0m \u001b[0;32mor\u001b[0m \u001b[0mindexer\u001b[0m\u001b[0;34m.\u001b[0m\u001b[0msize\u001b[0m \u001b[0;34m>\u001b[0m \u001b[0;36m1\u001b[0m\u001b[0;34m:\u001b[0m\u001b[0;34m\u001b[0m\u001b[0;34m\u001b[0m\u001b[0m\n",
      "\u001b[0;32mpandas/_libs/index.pyx\u001b[0m in \u001b[0;36mpandas._libs.index.IndexEngine.get_loc\u001b[0;34m()\u001b[0m\n",
      "\u001b[0;32mpandas/_libs/index.pyx\u001b[0m in \u001b[0;36mpandas._libs.index.IndexEngine.get_loc\u001b[0;34m()\u001b[0m\n",
      "\u001b[0;32mpandas/_libs/hashtable_class_helper.pxi\u001b[0m in \u001b[0;36mpandas._libs.hashtable.PyObjectHashTable.get_item\u001b[0;34m()\u001b[0m\n",
      "\u001b[0;32mpandas/_libs/hashtable_class_helper.pxi\u001b[0m in \u001b[0;36mpandas._libs.hashtable.PyObjectHashTable.get_item\u001b[0;34m()\u001b[0m\n",
      "\u001b[0;31mKeyError\u001b[0m: 0"
     ]
    }
   ],
   "source": [
    "for row in range(len(df['Student ID'])):\n",
    "    if df.iloc[row]['Place of issue'] in p1:\n",
    "        df[row]['region'] = regions_[0]\n",
    "    elif df.iloc[row]['Place of issue'] in p2:\n",
    "        df[row]['region'] = regions_[1]\n",
    "    elif df.iloc[row]['Place of issue'] in p3:\n",
    "        df[row]['region'] = regions_[2]\n",
    "    elif df.iloc[row]['Place of issue'] in p4:\n",
    "        df[row]['region'] = regions_[3]\n",
    "    elif df.iloc[row]['Place of issue'] in p5:\n",
    "        df[row]['region'] = regions_[4]\n",
    "    elif df.iloc[row]['Place of issue'] in p6:\n",
    "        df[row]['region'] = regions_[5]\n",
    "    elif df.iloc[row]['Place of issue'] in p7:\n",
    "        df[row]['region'] = regions_[6]\n",
    "    elif df.iloc[row]['Place of issue'] in p8:\n",
    "        df[row]['region'] = regions_[7]\n",
    "    elif df.iloc[row]['Place of issue'] in p9:\n",
    "        df[row]['region'] = regions_[8]\n",
    "    elif df.iloc[row]['Place of issue'] in p10:\n",
    "        df[row]['region'] = regions_[9]\n",
    "    elif df.iloc[row]['Place of issue'] in p11:\n",
    "        df[row]['region'] = regions_[10]\n",
    "    elif df.iloc[row]['Place of issue'] in p12:\n",
    "        df[row]['region'] = regions_[11]\n",
    "    elif df.iloc[row]['Place of issue'] in p13:\n",
    "        df[row]['region'] = regions_[12]\n",
    "    elif df.iloc[row]['Place of issue'] in p4:\n",
    "        df[row]['region'] = regions_[13]\n",
    "    else:\n",
    "        df[row]['region'] = df.iloc[row]['Place of issue']\n",
    "    "
   ]
  },
  {
   "cell_type": "code",
   "execution_count": 37,
   "metadata": {},
   "outputs": [],
   "source": [
    "p1 = ['Riyadh', 'Thadiq','Shaqra','Al-Kharj','Huraymila','Az Zulfi','Al Duwadimi','Afif','Aflaj',\n",
    "                    'As Sulayyil','Al Majmah','Howtat Bani Tamim','Al Quwaiiyah','Wadi Al-Dawasir','Rumah','Al Ghat',\n",
    "                    'Hautat Sudair','Al Uyaynah','Al Artawiyah','Ar Rayn','Al Hariq','Dhurma','Al-Muzahmiya','Sajir',\n",
    "                    'Ad Diriyah', 'الرياض','ثادق', 'شقراء', 'الخرج', 'حريملاء', 'الزلفي', 'الدوادمي', 'عفيف', 'الافلاج', 'السليل',\n",
    "                    'المجمعة', 'حوطة بني تميم', 'القويعية', 'وادي الدواسر', 'رماح', 'الغاط', 'حوطه سدير', 'العيينة', 'الأرطاوية', 'الرين',\n",
    "                    'الحريق', 'ضرماء', 'المزاحمية', 'ساجر', 'الدرعيه']\n",
    "\n",
    "p2 = ['Taif', 'Ranyah', 'Makkah', 'Jeddah', 'Turbah', 'Al Qunfudhah', 'Al Khurma', 'Ardiya Al Janubia',\n",
    "                     'الطائف',\n",
    "                     'رنيه',\n",
    "                     'مكة المكرمة',\n",
    "                     'جدة',\n",
    "                     'تربة',\n",
    "                     'القنفذة',\n",
    "                     'الخرمة',\n",
    "                     'العرضية الجنوبية',\n",
    "                     ]\n",
    "p3 = [\n",
    "                'Medinah',\n",
    "                'Al Mahd',\n",
    "                'Yanbu',\n",
    "                'Al Henakiyah',\n",
    "                'AlUla',\n",
    "                'Khaybar',\n",
    "                'Badr',\n",
    "                'المدينة المنورة',\n",
    "                'المهد',\n",
    "                'ينبع',\n",
    "                'الحناكية',\n",
    "                'العلا',\n",
    "                'خيبر',\n",
    "                'بدر',\n",
    "\n",
    "            ]\n",
    "p4 = [\n",
    "                'Al Bukayriyah',\n",
    "                'Buraydah',\n",
    "                'Unayzah',\n",
    "                'Ar Rass',\n",
    "                'Al Mithnab',\n",
    "                'Al Badayea',\n",
    "                'البكيرية',\n",
    "                'بريدة',\n",
    "                'عنيزة',\n",
    "                'الرس',\n",
    "                'المذنب',\n",
    "                'البدائع'\n",
    "\n",
    "            ]\n",
    "p5 = [\n",
    "                'Al Jubail',\n",
    "                'Al Khobar',\n",
    "                'Khafji',\n",
    "                'Hafr Al - Batin',\n",
    "                'Al Ahsa',\n",
    "                'Dammam',\n",
    "                'Nairyah',\n",
    "                'Al Hofuf',\n",
    "                'Qatif',\n",
    "                'Dhahran',\n",
    "                'Qaryat Al Ulya',\n",
    "                'الجبيل',\n",
    "                'الخبر',\n",
    "                'الخفجي',\n",
    "                'حفر الباطن',\n",
    "                'الاحساء',\n",
    "                'الدمام',\n",
    "                'النعيريه', 'الهفوف', 'القطيف', 'قرية',\n",
    "\n",
    "            ]\n",
    "p6 = [\n",
    "                'Al Namas',\n",
    "                'Bisha',\n",
    "                'Sarat Abidah',\n",
    "                'Dhahran Al Janub',\n",
    "                'Khamis Mushait',\n",
    "                'Abha',\n",
    "                'Mahayel Aseer',\n",
    "                'Khamis Mushait',\n",
    "                'Aseer',\n",
    "                'Ahad Rafidah',\n",
    "                'Balqarn',\n",
    "                'Ragal Almaa',\n",
    "                'Tathleeth',\n",
    "                'النماص',\n",
    "                'بيشه',\n",
    "                'سراة عبيدة',\n",
    "                'ظهران الجنوب',\n",
    "                'خميس مشيط',\n",
    "                'أبها',\n",
    "                'محايل', 'عسير', 'خميس', 'مشيط', 'عسير', 'أحدرفيدة', 'بلقرن', 'رجال', 'المع', 'تثليث'\n",
    "\n",
    "            ]\n",
    "p7 = [\n",
    "                'Haql',\n",
    "                'Umluj',\n",
    "                'Tabuk',\n",
    "                'Duba',\n",
    "                'Tayma',\n",
    "                'Al Wajh',\n",
    "                'حقل',\n",
    "                'املج',\n",
    "                'تبوك',\n",
    "                'ضباء',\n",
    "                'تيماء',\n",
    "                'الوجه'\n",
    "\n",
    "            ]\n",
    "p8 = [\n",
    "                'Hail',\n",
    "                'Baqaa',\n",
    "                'حائل',\n",
    "                'بقعاء'\n",
    "\n",
    "            ]\n",
    "p9 = [\n",
    "                'Rafha',\n",
    "                'Arar',\n",
    "                'Al Qurayyat',\n",
    "                'Turaif',\n",
    "                'رفحاء',\n",
    "                'عرعر',\n",
    "                'القريات',\n",
    "                'طريف'\n",
    "\n",
    "            ]\n",
    "p10 = [\n",
    "                'Sabya',\n",
    "                'Fayfa',\n",
    "                'Addayer',\n",
    "                'Abu Arish',\n",
    "                'Samtah',\n",
    "                'Farasan',\n",
    "                'Jazan',\n",
    "                'صبيا',\n",
    "                'فيفا',\n",
    "                'الداير', 'أبو عريش',\n",
    "                'صامطه',\n",
    "                'فرسان',\n",
    "                'جيزان'\n",
    "\n",
    "            ]\n",
    "p11 = [\n",
    "                'Najran',\n",
    "                'Sharorah',\n",
    "                'نجران',\n",
    "                'شروره'\n",
    "\n",
    "            ]\n",
    "p12 = [\n",
    "                'Almandaq',\n",
    "                'Al Bahah',\n",
    "                'Baljurashi',\n",
    "                'المندق',\n",
    "                'الباحة',\n",
    "                'بلجرشي'\n",
    "\n",
    "            ]\n",
    "p13 = [\n",
    "                'Dumah Al Jandal',\n",
    "                'Tubarjal',\n",
    "                'Al Jouf',\n",
    "                'دومة الجندل',\n",
    "                'طبرجل',\n",
    "                'الجوف'\n",
    "\n",
    "            ]\n",
    "p14 = [\n",
    "                'Sana',\n",
    "                'Kuwait',\n",
    "                'Muscat',\n",
    "                'صنعاء',\n",
    "                'الكويت',\n",
    "                'مسقط'\n",
    "\n",
    "            ]\n",
    "regions_ = ['منطقة الرياض', 'منطقة مكة المكرمة', 'المدينة المنورة', 'منطقة القصيم', 'الشرقية', 'منطقة عسير', 'منطقة تبوك', 'حائل', 'منطقة الحدود الشمالية', 'جازان', 'منطقة نجران',\n",
    "                        'منطقة الباحة', 'منطقة الجوف', 'طلاب دوليين'\n",
    "            ]"
   ]
  },
  {
   "cell_type": "code",
   "execution_count": null,
   "metadata": {},
   "outputs": [],
   "source": []
  },
  {
   "cell_type": "code",
   "execution_count": 10,
   "metadata": {},
   "outputs": [],
   "source": [
    "df = df[df['Date of birth'] != '//']"
   ]
  },
  {
   "cell_type": "code",
   "execution_count": 11,
   "metadata": {},
   "outputs": [],
   "source": [
    "df['b_year'] = df['Date of birth'].str.split('/',expand=True)[0]"
   ]
  },
  {
   "cell_type": "code",
   "execution_count": 50,
   "metadata": {},
   "outputs": [],
   "source": [
    "#df.loc[df['b_year'] == '', 'b_year'] = df['Graduation Year']"
   ]
  },
  {
   "cell_type": "code",
   "execution_count": 12,
   "metadata": {},
   "outputs": [],
   "source": [
    "df['b_year'] = pd.to_numeric(df['b_year'], errors='coerce')"
   ]
  },
  {
   "cell_type": "code",
   "execution_count": 13,
   "metadata": {},
   "outputs": [],
   "source": [
    "df['age'] = df['Graduation Year'] - df['b_year']"
   ]
  },
  {
   "cell_type": "code",
   "execution_count": 116,
   "metadata": {},
   "outputs": [],
   "source": [
    "# df.loc[(df['age'] == 0.0) | (df['age'] == 'nan') | (df['age'] == 'NaN'), 'age'] = 20"
   ]
  },
  {
   "cell_type": "code",
   "execution_count": 124,
   "metadata": {},
   "outputs": [],
   "source": [
    "jj = df.groupby('Major')"
   ]
  },
  {
   "cell_type": "code",
   "execution_count": 18,
   "metadata": {},
   "outputs": [],
   "source": [
    "df['age'] = df['age'].fillna(0)"
   ]
  },
  {
   "cell_type": "code",
   "execution_count": null,
   "metadata": {},
   "outputs": [],
   "source": [
    "df = df[df['ge'] != '//']"
   ]
  },
  {
   "cell_type": "code",
   "execution_count": 19,
   "metadata": {},
   "outputs": [
    {
     "data": {
      "text/plain": [
       "19.93050701097907"
      ]
     },
     "execution_count": 19,
     "metadata": {},
     "output_type": "execute_result"
    }
   ],
   "source": [
    "v = [i for i in df['age']]\n",
    "sum(v)/len(v)"
   ]
  },
  {
   "cell_type": "code",
   "execution_count": 3,
   "metadata": {},
   "outputs": [
    {
     "data": {
      "text/plain": [
       "True"
      ]
     },
     "execution_count": 3,
     "metadata": {},
     "output_type": "execute_result"
    }
   ],
   "source": [
    "cols = ['Student ID', 'Date of birth', 'Place of birth', 'Type of ID',\n",
    "       'Place of issue', 'Department', 'Major', 'Graduation Year', 'Year',\n",
    "       'Semester for graduation', 'GPA', 'Grade', 'Type of certificate']\n",
    "len(df.columns) == 13"
   ]
  },
  {
   "cell_type": "code",
   "execution_count": 4,
   "metadata": {},
   "outputs": [],
   "source": [
    "start_year = []\n",
    "for i in df['Student ID']:\n",
    "    if str(i)[0] == '1':\n",
    "        start_year.append(int(f'14{str(i)[3:5]}'))\n",
    "    elif str(i)[0] == '4':\n",
    "        start_year.append(int(f'14{str(i)[1:3]}'))"
   ]
  },
  {
   "cell_type": "code",
   "execution_count": 5,
   "metadata": {},
   "outputs": [],
   "source": [
    "df['start_year'] = start_year"
   ]
  },
  {
   "cell_type": "code",
   "execution_count": 6,
   "metadata": {},
   "outputs": [],
   "source": [
    "df['year_in_college'] = df['Graduation Year'] - df['start_year']"
   ]
  },
  {
   "cell_type": "code",
   "execution_count": 7,
   "metadata": {},
   "outputs": [],
   "source": [
    "majors = [i for i in set(list(df['Major']))]"
   ]
  },
  {
   "cell_type": "code",
   "execution_count": 11,
   "metadata": {},
   "outputs": [],
   "source": [
    "g_k = df.groupby('Major')\n",
    "data = []\n",
    "for major in majors:\n",
    "    _2y = 0\n",
    "    _3y = 0\n",
    "    _4y = 0\n",
    "    _5ym = 0\n",
    "    for yoc in g_k.get_group(major)['year_in_college']:\n",
    "        if yoc == 2:\n",
    "            _2y += 1\n",
    "        elif yoc == 3:\n",
    "            _3y += 1\n",
    "        elif yoc == 4:\n",
    "            _4y += 1\n",
    "        elif yoc >= 5:\n",
    "            _5ym += 1\n",
    "    # data.append({major : [_2y, _3y, _4y, _5ym]})\n",
    "    data.append([major, _2y, _3y, _4y, _5ym])"
   ]
  },
  {
   "cell_type": "code",
   "execution_count": 29,
   "metadata": {},
   "outputs": [],
   "source": [
    "nn = df[df['Graduation Year'] == 1433 ]"
   ]
  },
  {
   "cell_type": "code",
   "execution_count": 40,
   "metadata": {},
   "outputs": [
    {
     "ename": "TypeError",
     "evalue": "'Series' objects are mutable, thus they cannot be hashed",
     "output_type": "error",
     "traceback": [
      "\u001b[0;31m---------------------------------------------------------------------------\u001b[0m",
      "\u001b[0;31mTypeError\u001b[0m                                 Traceback (most recent call last)",
      "\u001b[0;32m<ipython-input-40-413a04589ed6>\u001b[0m in \u001b[0;36m<module>\u001b[0;34m\u001b[0m\n\u001b[1;32m      1\u001b[0m \u001b[0mrows\u001b[0m \u001b[0;34m=\u001b[0m \u001b[0;34m[\u001b[0m\u001b[0;34m]\u001b[0m\u001b[0;34m\u001b[0m\u001b[0;34m\u001b[0m\u001b[0m\n\u001b[0;32m----> 2\u001b[0;31m \u001b[0melements\u001b[0m \u001b[0;34m=\u001b[0m \u001b[0;34m[\u001b[0m\u001b[0mi\u001b[0m \u001b[0;32mfor\u001b[0m \u001b[0mi\u001b[0m \u001b[0;32min\u001b[0m \u001b[0mset\u001b[0m\u001b[0;34m(\u001b[0m\u001b[0mlist\u001b[0m\u001b[0;34m(\u001b[0m\u001b[0mdd\u001b[0m\u001b[0;34m[\u001b[0m\u001b[0;34m'Department'\u001b[0m\u001b[0;34m]\u001b[0m\u001b[0;34m)\u001b[0m\u001b[0;34m)\u001b[0m\u001b[0;34m]\u001b[0m\u001b[0;34m\u001b[0m\u001b[0;34m\u001b[0m\u001b[0m\n\u001b[0m\u001b[1;32m      3\u001b[0m \u001b[0mdd\u001b[0m \u001b[0;34m=\u001b[0m \u001b[0mdf\u001b[0m\u001b[0;34m.\u001b[0m\u001b[0mgroupby\u001b[0m\u001b[0;34m(\u001b[0m\u001b[0;34m'Department'\u001b[0m\u001b[0;34m)\u001b[0m\u001b[0;34m\u001b[0m\u001b[0;34m\u001b[0m\u001b[0m\n\u001b[1;32m      4\u001b[0m \u001b[0;32mfor\u001b[0m \u001b[0melm\u001b[0m \u001b[0;32min\u001b[0m \u001b[0melements\u001b[0m\u001b[0;34m:\u001b[0m\u001b[0;34m\u001b[0m\u001b[0;34m\u001b[0m\u001b[0m\n\u001b[1;32m      5\u001b[0m     \u001b[0mll\u001b[0m \u001b[0;34m=\u001b[0m \u001b[0;34m[\u001b[0m\u001b[0mi\u001b[0m \u001b[0;32mfor\u001b[0m \u001b[0mi\u001b[0m \u001b[0;32min\u001b[0m \u001b[0mself\u001b[0m\u001b[0;34m.\u001b[0m\u001b[0mdata\u001b[0m\u001b[0;34m.\u001b[0m\u001b[0mget_group\u001b[0m\u001b[0;34m(\u001b[0m\u001b[0melm\u001b[0m\u001b[0;34m)\u001b[0m\u001b[0;34m[\u001b[0m\u001b[0;34m'Graduation Year'\u001b[0m\u001b[0;34m]\u001b[0m\u001b[0;34m]\u001b[0m\u001b[0;34m\u001b[0m\u001b[0;34m\u001b[0m\u001b[0m\n",
      "\u001b[0;32m~/.local/lib/python3.8/site-packages/pandas/core/generic.py\u001b[0m in \u001b[0;36m__hash__\u001b[0;34m(self)\u001b[0m\n\u001b[1;32m   1796\u001b[0m \u001b[0;34m\u001b[0m\u001b[0m\n\u001b[1;32m   1797\u001b[0m     \u001b[0;32mdef\u001b[0m \u001b[0m__hash__\u001b[0m\u001b[0;34m(\u001b[0m\u001b[0mself\u001b[0m\u001b[0;34m)\u001b[0m\u001b[0;34m:\u001b[0m\u001b[0;34m\u001b[0m\u001b[0;34m\u001b[0m\u001b[0m\n\u001b[0;32m-> 1798\u001b[0;31m         raise TypeError(\n\u001b[0m\u001b[1;32m   1799\u001b[0m             \u001b[0;34mf\"{repr(type(self).__name__)} objects are mutable, \"\u001b[0m\u001b[0;34m\u001b[0m\u001b[0;34m\u001b[0m\u001b[0m\n\u001b[1;32m   1800\u001b[0m             \u001b[0;34mf\"thus they cannot be hashed\"\u001b[0m\u001b[0;34m\u001b[0m\u001b[0;34m\u001b[0m\u001b[0m\n",
      "\u001b[0;31mTypeError\u001b[0m: 'Series' objects are mutable, thus they cannot be hashed"
     ]
    }
   ],
   "source": [
    "rows = []\n",
    "elements = [i for i in set(list(dd['Department']))]\n",
    "dd = df.groupby('Department')\n",
    "for elm in elements:\n",
    "    ll = [i for i in self.data.get_group(elm)['Graduation Year']]\n",
    "    rows.append([elm, min(ll), int(sum(ll)/len(ll)), max(ll)])"
   ]
  },
  {
   "cell_type": "code",
   "execution_count": 39,
   "metadata": {},
   "outputs": [
    {
     "data": {
      "text/plain": [
       "<pandas.core.groupby.generic.DataFrameGroupBy object at 0x7fa805638670>"
      ]
     },
     "execution_count": 39,
     "metadata": {},
     "output_type": "execute_result"
    }
   ],
   "source": [
    "dd"
   ]
  },
  {
   "cell_type": "code",
   "execution_count": 13,
   "metadata": {},
   "outputs": [],
   "source": [
    "gk = nn.groupby('Major')\n",
    "    "
   ]
  },
  {
   "cell_type": "code",
   "execution_count": 22,
   "metadata": {},
   "outputs": [
    {
     "data": {
      "text/plain": [
       "2       1433\n",
       "3       1433\n",
       "4       1433\n",
       "9       1433\n",
       "10      1433\n",
       "        ... \n",
       "4781    1433\n",
       "4782    1433\n",
       "4785    1433\n",
       "4848    1433\n",
       "4855    1433\n",
       "Name: Graduation Year, Length: 245, dtype: int64"
      ]
     },
     "execution_count": 22,
     "metadata": {},
     "output_type": "execute_result"
    }
   ],
   "source": [
    "nn.loc[nn['Major'] == 'المحاسبة']['Graduation Year']"
   ]
  },
  {
   "cell_type": "code",
   "execution_count": 20,
   "metadata": {},
   "outputs": [],
   "source": [
    "# Major  -  Department"
   ]
  },
  {
   "cell_type": "code",
   "execution_count": 24,
   "metadata": {},
   "outputs": [],
   "source": [
    "df_group_by_major = df.groupby('Major')\n",
    "df_group_by_department = df.groupby('Department')\n"
   ]
  },
  {
   "cell_type": "code",
   "execution_count": 27,
   "metadata": {},
   "outputs": [
    {
     "data": {
      "text/plain": [
       "2        1433\n",
       "3        1433\n",
       "4        1433\n",
       "9        1433\n",
       "10       1433\n",
       "         ... \n",
       "24295    1425\n",
       "24296    1425\n",
       "24297    1425\n",
       "24299    1425\n",
       "24315    1425\n",
       "Name: Graduation Year, Length: 2433, dtype: int64"
      ]
     },
     "execution_count": 27,
     "metadata": {},
     "output_type": "execute_result"
    }
   ],
   "source": [
    "df_group_by_major.get_group('المحاسبة')['Graduation Year']"
   ]
  }
 ],
 "metadata": {
  "kernelspec": {
   "display_name": "Python 3",
   "language": "python",
   "name": "python3"
  },
  "language_info": {
   "codemirror_mode": {
    "name": "ipython",
    "version": 3
   },
   "file_extension": ".py",
   "mimetype": "text/x-python",
   "name": "python",
   "nbconvert_exporter": "python",
   "pygments_lexer": "ipython3",
   "version": "3.8.2"
  }
 },
 "nbformat": 4,
 "nbformat_minor": 4
}
