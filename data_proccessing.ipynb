{
 "cells": [
  {
   "cell_type": "code",
   "execution_count": 1,
   "metadata": {},
   "outputs": [],
   "source": [
    "import pandas as pd\n",
    "import numpy as np\n"
   ]
  },
  {
   "cell_type": "code",
   "execution_count": 33,
   "metadata": {},
   "outputs": [],
   "source": [
    "df = pd.read_excel('dta.xlsx')"
   ]
  },
  {
   "cell_type": "code",
   "execution_count": 19,
   "metadata": {},
   "outputs": [
    {
     "data": {
      "text/html": [
       "<div>\n",
       "<style scoped>\n",
       "    .dataframe tbody tr th:only-of-type {\n",
       "        vertical-align: middle;\n",
       "    }\n",
       "\n",
       "    .dataframe tbody tr th {\n",
       "        vertical-align: top;\n",
       "    }\n",
       "\n",
       "    .dataframe thead th {\n",
       "        text-align: right;\n",
       "    }\n",
       "</style>\n",
       "<table border=\"1\" class=\"dataframe\">\n",
       "  <thead>\n",
       "    <tr style=\"text-align: right;\">\n",
       "      <th></th>\n",
       "      <th>Student ID</th>\n",
       "      <th>Date of birth</th>\n",
       "      <th>Place of birth</th>\n",
       "      <th>Type of ID</th>\n",
       "      <th>Place of issue</th>\n",
       "      <th>Department</th>\n",
       "      <th>Major</th>\n",
       "      <th>Graduation Year</th>\n",
       "      <th>Year</th>\n",
       "      <th>Semester for graduation</th>\n",
       "      <th>GPA</th>\n",
       "      <th>Grade</th>\n",
       "      <th>Type of certificate</th>\n",
       "    </tr>\n",
       "  </thead>\n",
       "  <tbody>\n",
       "    <tr>\n",
       "      <th>0</th>\n",
       "      <td>101270471</td>\n",
       "      <td>1409/02/09</td>\n",
       "      <td>الرياض</td>\n",
       "      <td>بطاقة أحوال</td>\n",
       "      <td>الرياض</td>\n",
       "      <td>التقنية الإدارية</td>\n",
       "      <td>الإدارة  المكتبية</td>\n",
       "      <td>1433</td>\n",
       "      <td>1433/1432</td>\n",
       "      <td>4323</td>\n",
       "      <td>2.17</td>\n",
       "      <td>مقبول</td>\n",
       "      <td>دبلوم</td>\n",
       "    </tr>\n",
       "    <tr>\n",
       "      <th>1</th>\n",
       "      <td>101271087</td>\n",
       "      <td>1404/11/20</td>\n",
       "      <td>الرياض</td>\n",
       "      <td>بطاقة أحوال</td>\n",
       "      <td>ثادق</td>\n",
       "      <td>التقنية الكهربائية</td>\n",
       "      <td>آلات ومعدات كهربائية</td>\n",
       "      <td>1433</td>\n",
       "      <td>1433/1432</td>\n",
       "      <td>4323</td>\n",
       "      <td>2.01</td>\n",
       "      <td>مقبول</td>\n",
       "      <td>دبلوم</td>\n",
       "    </tr>\n",
       "    <tr>\n",
       "      <th>2</th>\n",
       "      <td>101271377</td>\n",
       "      <td>1408/11/09</td>\n",
       "      <td>الرياض</td>\n",
       "      <td>بطاقة أحوال</td>\n",
       "      <td>الرياض</td>\n",
       "      <td>التقنية الإدارية</td>\n",
       "      <td>المحاسبة</td>\n",
       "      <td>1433</td>\n",
       "      <td>1433/1432</td>\n",
       "      <td>4323</td>\n",
       "      <td>2.16</td>\n",
       "      <td>مقبول</td>\n",
       "      <td>دبلوم</td>\n",
       "    </tr>\n",
       "    <tr>\n",
       "      <th>3</th>\n",
       "      <td>101272432</td>\n",
       "      <td>1408/05/05</td>\n",
       "      <td>الرياض</td>\n",
       "      <td>بطاقة أحوال</td>\n",
       "      <td>الرياض</td>\n",
       "      <td>التقنية الإدارية</td>\n",
       "      <td>المحاسبة</td>\n",
       "      <td>1433</td>\n",
       "      <td>1433/1432</td>\n",
       "      <td>4323</td>\n",
       "      <td>2.23</td>\n",
       "      <td>مقبول</td>\n",
       "      <td>دبلوم</td>\n",
       "    </tr>\n",
       "    <tr>\n",
       "      <th>4</th>\n",
       "      <td>101280420</td>\n",
       "      <td>1404/07/29</td>\n",
       "      <td>الرياض</td>\n",
       "      <td>بطاقة أحوال</td>\n",
       "      <td>الرياض</td>\n",
       "      <td>التقنية الإدارية</td>\n",
       "      <td>المحاسبة</td>\n",
       "      <td>1433</td>\n",
       "      <td>1433/1432</td>\n",
       "      <td>4323</td>\n",
       "      <td>2.28</td>\n",
       "      <td>مقبول</td>\n",
       "      <td>دبلوم</td>\n",
       "    </tr>\n",
       "    <tr>\n",
       "      <th>...</th>\n",
       "      <td>...</td>\n",
       "      <td>...</td>\n",
       "      <td>...</td>\n",
       "      <td>...</td>\n",
       "      <td>...</td>\n",
       "      <td>...</td>\n",
       "      <td>...</td>\n",
       "      <td>...</td>\n",
       "      <td>...</td>\n",
       "      <td>...</td>\n",
       "      <td>...</td>\n",
       "      <td>...</td>\n",
       "      <td>...</td>\n",
       "    </tr>\n",
       "    <tr>\n",
       "      <th>24319</th>\n",
       "      <td>101239969</td>\n",
       "      <td>1401/07/01</td>\n",
       "      <td>الرياض</td>\n",
       "      <td>بطاقة أحوال</td>\n",
       "      <td>الرياض</td>\n",
       "      <td>التقنية الكهربائية</td>\n",
       "      <td>القوى الكهربائية</td>\n",
       "      <td>1425</td>\n",
       "      <td>1426/1425</td>\n",
       "      <td>4251</td>\n",
       "      <td>2.44</td>\n",
       "      <td>مقبول</td>\n",
       "      <td>دبلوم</td>\n",
       "    </tr>\n",
       "    <tr>\n",
       "      <th>24320</th>\n",
       "      <td>101239997</td>\n",
       "      <td>1403/01/18</td>\n",
       "      <td>الرياض</td>\n",
       "      <td>بطاقة أحوال</td>\n",
       "      <td>عنيزة</td>\n",
       "      <td>التقنية الإلكترونية</td>\n",
       "      <td>الكترونيات صناعية وتحكم</td>\n",
       "      <td>1425</td>\n",
       "      <td>1426/1425</td>\n",
       "      <td>4251</td>\n",
       "      <td>2.93</td>\n",
       "      <td>جيد</td>\n",
       "      <td>دبلوم</td>\n",
       "    </tr>\n",
       "    <tr>\n",
       "      <th>24321</th>\n",
       "      <td>101239999</td>\n",
       "      <td>1402/12/25</td>\n",
       "      <td>الرياض</td>\n",
       "      <td>بطاقة أحوال</td>\n",
       "      <td>الرياض</td>\n",
       "      <td>التقنية الإدارية</td>\n",
       "      <td>الإدارة  المكتبية</td>\n",
       "      <td>1425</td>\n",
       "      <td>1426/1425</td>\n",
       "      <td>4251</td>\n",
       "      <td>2.62</td>\n",
       "      <td>مقبول</td>\n",
       "      <td>دبلوم</td>\n",
       "    </tr>\n",
       "    <tr>\n",
       "      <th>24322</th>\n",
       "      <td>101248199</td>\n",
       "      <td>1405/11/19</td>\n",
       "      <td>الطائف</td>\n",
       "      <td>بطاقة أحوال</td>\n",
       "      <td>الطائف</td>\n",
       "      <td>تقنية الحاسب</td>\n",
       "      <td>الدعم الفني</td>\n",
       "      <td>1425</td>\n",
       "      <td>1426/1425</td>\n",
       "      <td>4251</td>\n",
       "      <td>3.50</td>\n",
       "      <td>جيد</td>\n",
       "      <td>دبلوم</td>\n",
       "    </tr>\n",
       "    <tr>\n",
       "      <th>24323</th>\n",
       "      <td>101248201</td>\n",
       "      <td>1404/12/20</td>\n",
       "      <td>NaN</td>\n",
       "      <td>بطاقة أحوال</td>\n",
       "      <td>الرياض</td>\n",
       "      <td>التقنية الإلكترونية</td>\n",
       "      <td>الكترونيات صناعية وتحكم</td>\n",
       "      <td>1425</td>\n",
       "      <td>1426/1425</td>\n",
       "      <td>4251</td>\n",
       "      <td>2.66</td>\n",
       "      <td>مقبول</td>\n",
       "      <td>دبلوم</td>\n",
       "    </tr>\n",
       "  </tbody>\n",
       "</table>\n",
       "<p>24324 rows × 13 columns</p>\n",
       "</div>"
      ],
      "text/plain": [
       "       Student ID Date of birth Place of birth   Type of ID Place of issue  \\\n",
       "0       101270471    1409/02/09         الرياض  بطاقة أحوال         الرياض   \n",
       "1       101271087    1404/11/20         الرياض  بطاقة أحوال           ثادق   \n",
       "2       101271377    1408/11/09         الرياض  بطاقة أحوال         الرياض   \n",
       "3       101272432    1408/05/05         الرياض  بطاقة أحوال         الرياض   \n",
       "4       101280420    1404/07/29         الرياض  بطاقة أحوال         الرياض   \n",
       "...           ...           ...            ...          ...            ...   \n",
       "24319   101239969    1401/07/01         الرياض  بطاقة أحوال         الرياض   \n",
       "24320   101239997    1403/01/18         الرياض  بطاقة أحوال          عنيزة   \n",
       "24321   101239999    1402/12/25         الرياض  بطاقة أحوال         الرياض   \n",
       "24322   101248199    1405/11/19         الطائف  بطاقة أحوال         الطائف   \n",
       "24323   101248201    1404/12/20            NaN  بطاقة أحوال         الرياض   \n",
       "\n",
       "                Department                    Major  Graduation Year  \\\n",
       "0         التقنية الإدارية        الإدارة  المكتبية             1433   \n",
       "1       التقنية الكهربائية     آلات ومعدات كهربائية             1433   \n",
       "2         التقنية الإدارية                 المحاسبة             1433   \n",
       "3         التقنية الإدارية                 المحاسبة             1433   \n",
       "4         التقنية الإدارية                 المحاسبة             1433   \n",
       "...                    ...                      ...              ...   \n",
       "24319   التقنية الكهربائية         القوى الكهربائية             1425   \n",
       "24320  التقنية الإلكترونية  الكترونيات صناعية وتحكم             1425   \n",
       "24321     التقنية الإدارية        الإدارة  المكتبية             1425   \n",
       "24322         تقنية الحاسب              الدعم الفني             1425   \n",
       "24323  التقنية الإلكترونية  الكترونيات صناعية وتحكم             1425   \n",
       "\n",
       "            Year  Semester for graduation   GPA  Grade Type of certificate  \n",
       "0      1433/1432                     4323  2.17  مقبول               دبلوم  \n",
       "1      1433/1432                     4323  2.01  مقبول               دبلوم  \n",
       "2      1433/1432                     4323  2.16  مقبول               دبلوم  \n",
       "3      1433/1432                     4323  2.23  مقبول               دبلوم  \n",
       "4      1433/1432                     4323  2.28  مقبول               دبلوم  \n",
       "...          ...                      ...   ...    ...                 ...  \n",
       "24319  1426/1425                     4251  2.44  مقبول               دبلوم  \n",
       "24320  1426/1425                     4251  2.93    جيد               دبلوم  \n",
       "24321  1426/1425                     4251  2.62  مقبول               دبلوم  \n",
       "24322  1426/1425                     4251  3.50    جيد               دبلوم  \n",
       "24323  1426/1425                     4251  2.66  مقبول               دبلوم  \n",
       "\n",
       "[24324 rows x 13 columns]"
      ]
     },
     "execution_count": 19,
     "metadata": {},
     "output_type": "execute_result"
    }
   ],
   "source": [
    "df"
   ]
  },
  {
   "cell_type": "code",
   "execution_count": 3,
   "metadata": {},
   "outputs": [
    {
     "data": {
      "text/plain": [
       "True"
      ]
     },
     "execution_count": 3,
     "metadata": {},
     "output_type": "execute_result"
    }
   ],
   "source": [
    "cols = ['Student ID', 'Date of birth', 'Place of birth', 'Type of ID',\n",
    "       'Place of issue', 'Department', 'Major', 'Graduation Year', 'Year',\n",
    "       'Semester for graduation', 'GPA', 'Grade', 'Type of certificate']\n",
    "len(df.columns) == 13"
   ]
  },
  {
   "cell_type": "code",
   "execution_count": 4,
   "metadata": {},
   "outputs": [],
   "source": [
    "start_year = []\n",
    "for i in df['Student ID']:\n",
    "    if str(i)[0] == '1':\n",
    "        start_year.append(int(f'14{str(i)[3:5]}'))\n",
    "    elif str(i)[0] == '4':\n",
    "        start_year.append(int(f'14{str(i)[1:3]}'))"
   ]
  },
  {
   "cell_type": "code",
   "execution_count": 5,
   "metadata": {},
   "outputs": [],
   "source": [
    "df['start_year'] = start_year"
   ]
  },
  {
   "cell_type": "code",
   "execution_count": 6,
   "metadata": {},
   "outputs": [],
   "source": [
    "df['year_in_college'] = df['Graduation Year'] - df['start_year']"
   ]
  },
  {
   "cell_type": "code",
   "execution_count": 7,
   "metadata": {},
   "outputs": [],
   "source": [
    "majors = [i for i in set(list(df['Major']))]"
   ]
  },
  {
   "cell_type": "code",
   "execution_count": 11,
   "metadata": {},
   "outputs": [],
   "source": [
    "g_k = df.groupby('Major')\n",
    "data = []\n",
    "for major in majors:\n",
    "    _2y = 0\n",
    "    _3y = 0\n",
    "    _4y = 0\n",
    "    _5ym = 0\n",
    "    for yoc in g_k.get_group(major)['year_in_college']:\n",
    "        if yoc == 2:\n",
    "            _2y += 1\n",
    "        elif yoc == 3:\n",
    "            _3y += 1\n",
    "        elif yoc == 4:\n",
    "            _4y += 1\n",
    "        elif yoc >= 5:\n",
    "            _5ym += 1\n",
    "    # data.append({major : [_2y, _3y, _4y, _5ym]})\n",
    "    data.append([major, _2y, _3y, _4y, _5ym])"
   ]
  },
  {
   "cell_type": "code",
   "execution_count": 29,
   "metadata": {},
   "outputs": [],
   "source": [
    "nn = df[df['Graduation Year'] == 1433 ]"
   ]
  },
  {
   "cell_type": "code",
   "execution_count": 40,
   "metadata": {},
   "outputs": [
    {
     "ename": "TypeError",
     "evalue": "'Series' objects are mutable, thus they cannot be hashed",
     "output_type": "error",
     "traceback": [
      "\u001b[0;31m---------------------------------------------------------------------------\u001b[0m",
      "\u001b[0;31mTypeError\u001b[0m                                 Traceback (most recent call last)",
      "\u001b[0;32m<ipython-input-40-413a04589ed6>\u001b[0m in \u001b[0;36m<module>\u001b[0;34m\u001b[0m\n\u001b[1;32m      1\u001b[0m \u001b[0mrows\u001b[0m \u001b[0;34m=\u001b[0m \u001b[0;34m[\u001b[0m\u001b[0;34m]\u001b[0m\u001b[0;34m\u001b[0m\u001b[0;34m\u001b[0m\u001b[0m\n\u001b[0;32m----> 2\u001b[0;31m \u001b[0melements\u001b[0m \u001b[0;34m=\u001b[0m \u001b[0;34m[\u001b[0m\u001b[0mi\u001b[0m \u001b[0;32mfor\u001b[0m \u001b[0mi\u001b[0m \u001b[0;32min\u001b[0m \u001b[0mset\u001b[0m\u001b[0;34m(\u001b[0m\u001b[0mlist\u001b[0m\u001b[0;34m(\u001b[0m\u001b[0mdd\u001b[0m\u001b[0;34m[\u001b[0m\u001b[0;34m'Department'\u001b[0m\u001b[0;34m]\u001b[0m\u001b[0;34m)\u001b[0m\u001b[0;34m)\u001b[0m\u001b[0;34m]\u001b[0m\u001b[0;34m\u001b[0m\u001b[0;34m\u001b[0m\u001b[0m\n\u001b[0m\u001b[1;32m      3\u001b[0m \u001b[0mdd\u001b[0m \u001b[0;34m=\u001b[0m \u001b[0mdf\u001b[0m\u001b[0;34m.\u001b[0m\u001b[0mgroupby\u001b[0m\u001b[0;34m(\u001b[0m\u001b[0;34m'Department'\u001b[0m\u001b[0;34m)\u001b[0m\u001b[0;34m\u001b[0m\u001b[0;34m\u001b[0m\u001b[0m\n\u001b[1;32m      4\u001b[0m \u001b[0;32mfor\u001b[0m \u001b[0melm\u001b[0m \u001b[0;32min\u001b[0m \u001b[0melements\u001b[0m\u001b[0;34m:\u001b[0m\u001b[0;34m\u001b[0m\u001b[0;34m\u001b[0m\u001b[0m\n\u001b[1;32m      5\u001b[0m     \u001b[0mll\u001b[0m \u001b[0;34m=\u001b[0m \u001b[0;34m[\u001b[0m\u001b[0mi\u001b[0m \u001b[0;32mfor\u001b[0m \u001b[0mi\u001b[0m \u001b[0;32min\u001b[0m \u001b[0mself\u001b[0m\u001b[0;34m.\u001b[0m\u001b[0mdata\u001b[0m\u001b[0;34m.\u001b[0m\u001b[0mget_group\u001b[0m\u001b[0;34m(\u001b[0m\u001b[0melm\u001b[0m\u001b[0;34m)\u001b[0m\u001b[0;34m[\u001b[0m\u001b[0;34m'Graduation Year'\u001b[0m\u001b[0;34m]\u001b[0m\u001b[0;34m]\u001b[0m\u001b[0;34m\u001b[0m\u001b[0;34m\u001b[0m\u001b[0m\n",
      "\u001b[0;32m~/.local/lib/python3.8/site-packages/pandas/core/generic.py\u001b[0m in \u001b[0;36m__hash__\u001b[0;34m(self)\u001b[0m\n\u001b[1;32m   1796\u001b[0m \u001b[0;34m\u001b[0m\u001b[0m\n\u001b[1;32m   1797\u001b[0m     \u001b[0;32mdef\u001b[0m \u001b[0m__hash__\u001b[0m\u001b[0;34m(\u001b[0m\u001b[0mself\u001b[0m\u001b[0;34m)\u001b[0m\u001b[0;34m:\u001b[0m\u001b[0;34m\u001b[0m\u001b[0;34m\u001b[0m\u001b[0m\n\u001b[0;32m-> 1798\u001b[0;31m         raise TypeError(\n\u001b[0m\u001b[1;32m   1799\u001b[0m             \u001b[0;34mf\"{repr(type(self).__name__)} objects are mutable, \"\u001b[0m\u001b[0;34m\u001b[0m\u001b[0;34m\u001b[0m\u001b[0m\n\u001b[1;32m   1800\u001b[0m             \u001b[0;34mf\"thus they cannot be hashed\"\u001b[0m\u001b[0;34m\u001b[0m\u001b[0;34m\u001b[0m\u001b[0m\n",
      "\u001b[0;31mTypeError\u001b[0m: 'Series' objects are mutable, thus they cannot be hashed"
     ]
    }
   ],
   "source": [
    "rows = []\n",
    "elements = [i for i in set(list(dd['Department']))]\n",
    "dd = df.groupby('Department')\n",
    "for elm in elements:\n",
    "    ll = [i for i in self.data.get_group(elm)['Graduation Year']]\n",
    "    rows.append([elm, min(ll), int(sum(ll)/len(ll)), max(ll)])"
   ]
  },
  {
   "cell_type": "code",
   "execution_count": 39,
   "metadata": {},
   "outputs": [
    {
     "data": {
      "text/plain": [
       "<pandas.core.groupby.generic.DataFrameGroupBy object at 0x7fa805638670>"
      ]
     },
     "execution_count": 39,
     "metadata": {},
     "output_type": "execute_result"
    }
   ],
   "source": [
    "dd"
   ]
  },
  {
   "cell_type": "code",
   "execution_count": 13,
   "metadata": {},
   "outputs": [],
   "source": [
    "gk = nn.groupby('Major')\n",
    "    "
   ]
  },
  {
   "cell_type": "code",
   "execution_count": 22,
   "metadata": {},
   "outputs": [
    {
     "data": {
      "text/plain": [
       "2       1433\n",
       "3       1433\n",
       "4       1433\n",
       "9       1433\n",
       "10      1433\n",
       "        ... \n",
       "4781    1433\n",
       "4782    1433\n",
       "4785    1433\n",
       "4848    1433\n",
       "4855    1433\n",
       "Name: Graduation Year, Length: 245, dtype: int64"
      ]
     },
     "execution_count": 22,
     "metadata": {},
     "output_type": "execute_result"
    }
   ],
   "source": [
    "nn.loc[nn['Major'] == 'المحاسبة']['Graduation Year']"
   ]
  },
  {
   "cell_type": "code",
   "execution_count": 20,
   "metadata": {},
   "outputs": [],
   "source": [
    "# Major  -  Department"
   ]
  },
  {
   "cell_type": "code",
   "execution_count": 24,
   "metadata": {},
   "outputs": [],
   "source": [
    "df_group_by_major = df.groupby('Major')\n",
    "df_group_by_department = df.groupby('Department')\n"
   ]
  },
  {
   "cell_type": "code",
   "execution_count": 27,
   "metadata": {},
   "outputs": [
    {
     "data": {
      "text/plain": [
       "2        1433\n",
       "3        1433\n",
       "4        1433\n",
       "9        1433\n",
       "10       1433\n",
       "         ... \n",
       "24295    1425\n",
       "24296    1425\n",
       "24297    1425\n",
       "24299    1425\n",
       "24315    1425\n",
       "Name: Graduation Year, Length: 2433, dtype: int64"
      ]
     },
     "execution_count": 27,
     "metadata": {},
     "output_type": "execute_result"
    }
   ],
   "source": [
    "df_group_by_major.get_group('المحاسبة')['Graduation Year']"
   ]
  }
 ],
 "metadata": {
  "kernelspec": {
   "display_name": "Python 3",
   "language": "python",
   "name": "python3"
  },
  "language_info": {
   "codemirror_mode": {
    "name": "ipython",
    "version": 3
   },
   "file_extension": ".py",
   "mimetype": "text/x-python",
   "name": "python",
   "nbconvert_exporter": "python",
   "pygments_lexer": "ipython3",
   "version": "3.8.2"
  }
 },
 "nbformat": 4,
 "nbformat_minor": 4
}
